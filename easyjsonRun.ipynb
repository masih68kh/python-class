{
 "metadata": {
  "language_info": {
   "codemirror_mode": {
    "name": "ipython",
    "version": 3
   },
   "file_extension": ".py",
   "mimetype": "text/x-python",
   "name": "python",
   "nbconvert_exporter": "python",
   "pygments_lexer": "ipython3",
   "version": "3.7.4-final"
  },
  "orig_nbformat": 2,
  "kernelspec": {
   "name": "Python 3.7.4 64-bit ('Anaconda3': conda)",
   "display_name": "Python 3.7.4 64-bit ('Anaconda3': conda)",
   "metadata": {
    "interpreter": {
     "hash": "b3ba2566441a7c06988d0923437866b63cedc61552a5af99d1f4fb67d367b25f"
    }
   }
  }
 },
 "nbformat": 4,
 "nbformat_minor": 2,
 "cells": [
  {
   "cell_type": "code",
   "execution_count": 1,
   "metadata": {},
   "outputs": [],
   "source": [
    "%load_ext autoreload\n",
    "%autoreload 2"
   ]
  },
  {
   "cell_type": "code",
   "execution_count": 2,
   "metadata": {},
   "outputs": [],
   "source": [
    "import json\n",
    "data = \"\"\"{\n",
    "        \"result\": {\n",
    "            \"users\": [{\n",
    "                \"id\": 4,\n",
    "                \"profile\": {\"id\": 16, \"name\": \"Mildred\"}\n",
    "            }, {\n",
    "                \"id\": 6,\n",
    "                \"profile\": {\"id\": 18, \"name\": \"James\"}\n",
    "            }, {\n",
    "                \"id\": 5,\n",
    "                \"profile\": {\"id\": 17, \"name\": \"Gloria\"}\n",
    "            }, {\n",
    "                \"id\": 3,\n",
    "                \"profile\": {\"id\": 15, \"name\": \"William\"}\n",
    "            }]\n",
    "        }\n",
    "    }\"\"\"\n",
    "jdata = json.loads(data)"
   ]
  },
  {
   "cell_type": "code",
   "execution_count": 19,
   "metadata": {},
   "outputs": [
    {
     "output_type": "stream",
     "name": "stdout",
     "text": [
      "4\n{'id': 16, 'name': 'Mildred'}\n6\n{'id': 18, 'name': 'James'}\n5\n{'id': 17, 'name': 'Gloria'}\n3\n{'id': 15, 'name': 'William'}\n"
     ]
    }
   ],
   "source": [
    "for item in jdata['result']['users']:\n",
    "    print(item['id'])\n",
    "    print(item['profile'])"
   ]
  },
  {
   "cell_type": "code",
   "execution_count": 23,
   "metadata": {},
   "outputs": [
    {
     "output_type": "execute_result",
     "data": {
      "text/plain": [
       "{'1': 4, '2': 4, '3': 9}"
      ]
     },
     "metadata": {},
     "execution_count": 23
    }
   ],
   "source": [
    "base = {\"1\": 2, \"2\":2, \"3\":3}\n",
    "dicti = {key: value**2 for key, value in base.items()}\n",
    "dicti"
   ]
  }
 ]
}